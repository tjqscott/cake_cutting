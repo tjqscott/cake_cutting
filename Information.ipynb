{
 "cells": [
  {
   "cell_type": "markdown",
   "metadata": {},
   "source": [
    "Session 1: Friday, 20th September 2024: 14:00 - 16:00\n",
    "https://uofglasgow.zoom.us/j/87368228106?pwd=iDiPM18HasBNdoXRwlPlm587oxCrOw.1"
   ]
  },
  {
   "cell_type": "markdown",
   "metadata": {},
   "source": [
    "Session 2: Friday, 2nd December 2024: 14:00 - 16:00\n",
    "https://uofglasgow.zoom.us/j/87368228106?pwd=iDiPM18HasBNdoXRwlPlm587oxCrOw.1"
   ]
  }
 ],
 "metadata": {
  "language_info": {
   "name": "python"
  }
 },
 "nbformat": 4,
 "nbformat_minor": 2
}
